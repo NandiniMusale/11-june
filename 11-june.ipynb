{
 "cells": [
  {
   "cell_type": "markdown",
   "id": "3f110190",
   "metadata": {},
   "source": [
    "1.What is a lambda function in Python, and how does it differ from a regular function?\n",
    "Sometimes we can declare a function without any name,such type of nameless functions are called anonymous functions or lambda functions.\n",
    "Ans:\n",
    "1.The main purpose of anonymous function is just for instant use(i.e for one timeusage)\n",
    "\n",
    "2.You can use the lambda keyword to create small anonymous functions. These functions are called anonymous because they are not declared in the standard manner by using the def keyword.\n",
    "\n",
    "3.Lambda forms can take any number of arguments but return just one value in the form of an expression. They cannot contain commands or multiple expressions.\n",
    "\n",
    "4.An anonymous function cannot be a direct call to print because lambda requires an expression.\n",
    "\n",
    "5.Lambda functions have their own local namespace and cannot access variablesother than those in their parameter list and those in the global namespace.\n",
    "6.It is diffrent from regular function as it does follow the rule that we use to create the regular functions,i.e it doen not use def keyword to create a function.\n",
    "\n"
   ]
  },
  {
   "cell_type": "code",
   "execution_count": 1,
   "id": "ec445fa2",
   "metadata": {},
   "outputs": [
    {
     "name": "stdout",
     "output_type": "stream",
     "text": [
      "Value of total :  30\n",
      "Value of total :  40\n"
     ]
    }
   ],
   "source": [
    "sum = lambda arg1, arg2: arg1 + arg2;\n",
    "\n",
    "print( \"Value of total : \", sum( 10, 20 ))\n",
    "\n",
    "print( \"Value of total : \", sum( 20, 20 ))"
   ]
  },
  {
   "cell_type": "markdown",
   "id": "83966d8f",
   "metadata": {},
   "source": [
    "2. Can a lambda function in Python have multiple arguments? If yes, how can you define and use them?\n",
    "\n",
    "Ans:Yes lambda function can have multiple arguments"
   ]
  },
  {
   "cell_type": "code",
   "execution_count": 1,
   "id": "91bb45b1",
   "metadata": {},
   "outputs": [
    {
     "name": "stdout",
     "output_type": "stream",
     "text": [
      "The sum of two varibles is 5\n"
     ]
    }
   ],
   "source": [
    "sum1=lambda a,b:a+b\n",
    "print(\"The sum of two varibles is\",sum1(2,3))"
   ]
  },
  {
   "cell_type": "markdown",
   "id": "63e84044",
   "metadata": {},
   "source": [
    "3. How are lambda functions typically used in Python? Provide an example use case.\n",
    "\n",
    "Ans:In Python, we generally use Lambda Functions as an argument to a higher-order function (a function that takes in other functions as arguments).For Example, These are used together with built-in functions like filter(), map(), and reduce(), etc"
   ]
  },
  {
   "cell_type": "code",
   "execution_count": 4,
   "id": "885a8464",
   "metadata": {},
   "outputs": [
    {
     "name": "stdout",
     "output_type": "stream",
     "text": [
      "[2, 4, 6, 8]\n"
     ]
    }
   ],
   "source": [
    "l=[1,2,3,4,5,6,7,8]\n",
    "\n",
    "even=list(filter(lambda i: i%2 == 0,l))\n",
    "print(even)"
   ]
  },
  {
   "cell_type": "markdown",
   "id": "f0ce3637",
   "metadata": {},
   "source": [
    "4. What are the advantages and limitations of lambda functions compared to regular functions in Python?\n",
    "\n",
    "Advantages of lambda function:\n",
    "\n",
    "Lambda helps you use a function only once, and hence, avoids cluttering up the code with function definitions. In short, Python's lambda keyword lets you define a function in a single line of code and use it immediately.\n",
    "\n",
    "Limitations of lambda function:\n",
    "The maximum time a function can run is 15 minutes, and the default timeout is 3 seconds. Obviously, this makes Lambda unsuitable for long-running workloads. The payload for each invocation of a Lambda function is limited to 6MB, and memory is limited to just under 3GB.\n",
    "\n",
    "Lambda function cannot support more than one expression when compared to regular functions in python"
   ]
  },
  {
   "cell_type": "markdown",
   "id": "0dfabc46",
   "metadata": {},
   "source": [
    "5. Are lambda functions in Python able to access variables defined outside of their own scope?Explain with an example.\n",
    "\n",
    "Ans: yes it possible to lambda functions in python to access the variables defined outside of their own scope."
   ]
  },
  {
   "cell_type": "code",
   "execution_count": 6,
   "id": "a2291f24",
   "metadata": {},
   "outputs": [
    {
     "name": "stdout",
     "output_type": "stream",
     "text": [
      "False\n"
     ]
    }
   ],
   "source": [
    "i=3\n",
    "sum1=lambda a: a>i # here it has accessed the variable i\n",
    "print(sum1(2))\n"
   ]
  },
  {
   "cell_type": "code",
   "execution_count": 3,
   "id": "90d25f66",
   "metadata": {},
   "outputs": [
    {
     "name": "stdout",
     "output_type": "stream",
     "text": [
      "The square of the given number is 16\n"
     ]
    }
   ],
   "source": [
    "#6. Write a lambda function to calculate the square of a given number.\n",
    "\n",
    "square= lambda a:a*a\n",
    "print(\"The square of the given number is\",square(4))\n"
   ]
  },
  {
   "cell_type": "code",
   "execution_count": 3,
   "id": "bc706653",
   "metadata": {},
   "outputs": [
    {
     "name": "stdout",
     "output_type": "stream",
     "text": [
      "the maximum number in the given list is 6\n"
     ]
    }
   ],
   "source": [
    "#7. Create a lambda function to find the maximum value in a list of integers.\n",
    "maximum=lambda l : max(l)\n",
    "l=[1,2,3,4,5,6]\n",
    "print(\"the maximum number in the given list is\",maximum(l))\n"
   ]
  },
  {
   "cell_type": "code",
   "execution_count": 3,
   "id": "788dcd50",
   "metadata": {},
   "outputs": [
    {
     "name": "stdout",
     "output_type": "stream",
     "text": [
      "[2, 4, 6, 8]\n"
     ]
    }
   ],
   "source": [
    "#8. Implement a lambda function to filter out all the even numbers from a list of integers.\n",
    "l=[1,2,3,4,5,6,7,8]\n",
    "\n",
    "even=list(filter(lambda i: i%2 == 0,l))\n",
    "print(even)"
   ]
  },
  {
   "cell_type": "code",
   "execution_count": 4,
   "id": "26be7de0",
   "metadata": {},
   "outputs": [
    {
     "name": "stdout",
     "output_type": "stream",
     "text": [
      "['apple', 'orange', 'banana', 'mangobannana']\n"
     ]
    }
   ],
   "source": [
    "#9.Write a lambda function to sort a list of strings in ascending order based on the length of each string\n",
    "l=[\"mangobannana\",\"apple\",\"orange\",\"banana\"]\n",
    "\n",
    "\n",
    "sortedList = sorted(l, key=lambda x: len(x))\n",
    "\n",
    "print(sortedList)\n"
   ]
  },
  {
   "cell_type": "code",
   "execution_count": 7,
   "id": "42615629",
   "metadata": {},
   "outputs": [
    {
     "name": "stdout",
     "output_type": "stream",
     "text": [
      "{1, 2, 4}\n"
     ]
    }
   ],
   "source": [
    "#10. Create a lambda function that takes two lists as input and returns a new list containing thecommon elements between the two lists.\n",
    "\n",
    "\n",
    "l=lambda a,b : set(a)&set(b)\n",
    "a=[1,2,3,4,5]\n",
    "b=[1,2,4,8,9]\n",
    "print(l(a,b))"
   ]
  },
  {
   "cell_type": "code",
   "execution_count": 7,
   "id": "3aa0f352",
   "metadata": {},
   "outputs": [
    {
     "name": "stdout",
     "output_type": "stream",
     "text": [
      "120\n"
     ]
    }
   ],
   "source": [
    "#11. Write a recursive function to calculate the factorial of a given positive integer.\n",
    "\n",
    "def factorial(n):\n",
    "    if n==1:\n",
    "        return 1\n",
    "    else:\n",
    "        return n*factorial(n-1)\n",
    "k=factorial(5)\n",
    "print(k)\n"
   ]
  },
  {
   "cell_type": "code",
   "execution_count": 12,
   "id": "b0b199c7",
   "metadata": {},
   "outputs": [
    {
     "name": "stdout",
     "output_type": "stream",
     "text": [
      "13\n"
     ]
    }
   ],
   "source": [
    "#12. Implement a recursive function to compute the nth Fibonacci number\n",
    "\n",
    "def Fibonacci_Series(n):   \n",
    "      \n",
    "    if n < 0:  \n",
    "        print(\"enter number graeter than or equal to zero\")  \n",
    "      \n",
    "    elif n == 0:   \n",
    "        return (0)   \n",
    "      \n",
    "    elif n == 1:  \n",
    "        return (1)  \n",
    "    else:  \n",
    "        return (Fibonacci_Series(n - 1) + Fibonacci_Series(n - 2))   \n",
    "k=Fibonacci_Series(7)\n",
    "print(k)"
   ]
  },
  {
   "cell_type": "code",
   "execution_count": 13,
   "id": "ff848154",
   "metadata": {},
   "outputs": [
    {
     "name": "stdout",
     "output_type": "stream",
     "text": [
      "15\n"
     ]
    }
   ],
   "source": [
    "#13. Create a recursive function to find the sum of all the elements in a given list.\n",
    "\n",
    "def Sum(l):\n",
    "    if len(l)==0:\n",
    "        return 0\n",
    "    else:\n",
    "        return l[0] + Sum(l[1:]) \n",
    "print(Sum([1, 3, 4, 2, 5]))"
   ]
  },
  {
   "cell_type": "code",
   "execution_count": 3,
   "id": "487edf0b",
   "metadata": {},
   "outputs": [
    {
     "name": "stdout",
     "output_type": "stream",
     "text": [
      "Yes it is a palindrome\n"
     ]
    }
   ],
   "source": [
    "#14. Write a recursive function to determine whether a given string is a palindrome.\n",
    "def isPalRec(st, s, e) :\n",
    "     \n",
    "    # If there is only one character\n",
    "    if (s == e):\n",
    "        return True\n",
    " \n",
    "    # If first and last\n",
    "    # characters do not match\n",
    "    if (st[s] != st[e]) :\n",
    "        return False\n",
    " \n",
    "    # If there are more than\n",
    "    # two characters, check if\n",
    "    # middle substring is also\n",
    "    # palindrome or not.\n",
    "    if (s < e + 1) :\n",
    "        return isPalRec(st, s + 1, e - 1);\n",
    " \n",
    "    return True\n",
    " \n",
    "def isPalindrome(st) :\n",
    "    n = len(st)\n",
    "     \n",
    "    # An empty string is\n",
    "    # considered as palindrome\n",
    "    if (n == 0) :\n",
    "        return True\n",
    "     \n",
    "    return isPalRec(st, 0, n - 1);\n",
    "k=isPalindrome(\"ini\")\n",
    "if k==True:\n",
    "    print(\"Yes it is a palindrome\")\n",
    "else:\n",
    "    print(\"no it is not a palindrome\")"
   ]
  },
  {
   "cell_type": "code",
   "execution_count": 7,
   "id": "7e06f422",
   "metadata": {},
   "outputs": [
    {
     "name": "stdout",
     "output_type": "stream",
     "text": [
      "14\n"
     ]
    }
   ],
   "source": [
    "#15.Implement a recursive function to find the greatest common divisor (GCD) of two positive integers.\n",
    "\n",
    "def gcd(a, b):\n",
    "    if a == b:\n",
    "        return a\n",
    "    if a > b:\n",
    "        return gcd(a-b, b)\n",
    "    else:\n",
    "        return gcd(a, b-a)\n",
    "k=gcd(98,56)\n",
    "print(k)"
   ]
  },
  {
   "cell_type": "code",
   "execution_count": null,
   "id": "f1e65f27",
   "metadata": {},
   "outputs": [],
   "source": []
  }
 ],
 "metadata": {
  "kernelspec": {
   "display_name": "Python 3 (ipykernel)",
   "language": "python",
   "name": "python3"
  },
  "language_info": {
   "codemirror_mode": {
    "name": "ipython",
    "version": 3
   },
   "file_extension": ".py",
   "mimetype": "text/x-python",
   "name": "python",
   "nbconvert_exporter": "python",
   "pygments_lexer": "ipython3",
   "version": "3.10.9"
  }
 },
 "nbformat": 4,
 "nbformat_minor": 5
}
